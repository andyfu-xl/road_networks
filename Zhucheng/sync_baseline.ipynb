{
 "cells": [
  {
   "cell_type": "code",
   "execution_count": 1,
   "metadata": {},
   "outputs": [
    {
     "name": "stderr",
     "output_type": "stream",
     "text": [
      "/home/andyfu/miniconda3/envs/sumo/lib/python3.10/site-packages/torch/cuda/__init__.py:619: UserWarning: Can't initialize NVML\n",
      "  warnings.warn(\"Can't initialize NVML\")\n",
      "/home/andyfu/miniconda3/envs/sumo/lib/python3.10/site-packages/torch/cuda/__init__.py:749: UserWarning: CUDA initialization: Unexpected error from cudaGetDeviceCount(). Did you run some cuda functions before calling NumCudaDevices() that might have already set an error? Error 804: forward compatibility was attempted on non supported HW (Triggered internally at /opt/conda/conda-bld/pytorch_1712608839953/work/c10/cuda/CUDAFunctions.cpp:108.)\n",
      "  return torch._C._cuda_getDeviceCount() if nvml_count < 0 else nvml_count\n"
     ]
    },
    {
     "name": "stdout",
     "output_type": "stream",
     "text": [
      "SUMO_HOME found\n",
      "Using device: cpu\n"
     ]
    }
   ],
   "source": [
    "import sys\n",
    "import random\n",
    "import torch\n",
    "import numpy as np\n",
    "import torch\n",
    "import torch.nn as nn\n",
    "import torch.optim as optim\n",
    "from torch.utils.data import TensorDataset, DataLoader, Dataset\n",
    "import sumolib\n",
    "import traci\n",
    "from sumolib import checkBinary\n",
    "import torch\n",
    "import torch.nn as nn\n",
    "import torch.nn.functional as F\n",
    "from torch_geometric.nn import GCNConv\n",
    "from torch_geometric.data import Data\n",
    "import sys\n",
    "import io\n",
    "from contextlib import redirect_stdout\n",
    "import matplotlib.pyplot as plt\n",
    "import pandas as pd\n",
    "import os\n",
    "import math\n",
    "\n",
    "\n",
    "if 'SUMO_HOME' in os.environ:\n",
    "    print('SUMO_HOME found')\n",
    "    sys.path.append(os.path.join(os.environ['SUMO_HOME'], 'tools'))\n",
    "\n",
    "sumoBinary = checkBinary('sumo-gui')\n",
    "# sumoBinary = checkBinary('sumo')\n",
    "roadNetwork = \"./config/osm.sumocfg\"\n",
    "sumoCmd = [sumoBinary, \"-c\", roadNetwork, \"--start\", \"--quit-on-end\"]\n",
    "# use gpu if available\n",
    "device = torch.device(\"cuda\" if torch.cuda.is_available() else \"cpu\")\n",
    "print(\"Using device: \" + str(device))"
   ]
  },
  {
   "cell_type": "code",
   "execution_count": 2,
   "metadata": {},
   "outputs": [],
   "source": [
    "def intervehicleConnectivity(threshold = None):\n",
    "    xs = []\n",
    "    ys = []\n",
    "    for vehicle in traci.vehicle.getIDList():\n",
    "        x, y = traci.vehicle.getPosition(vehicle)\n",
    "        xs.append(x)\n",
    "        ys.append(y)\n",
    "    xs = torch.tensor(xs, dtype=torch.float32).to(device).view(-1,1)\n",
    "    ys = torch.tensor(ys, dtype=torch.float32).to(device).view(-1,1)\n",
    "    intervehicle_distances = torch.sqrt((xs - xs.t())**2 + (ys - ys.t())**2)\n",
    "    if threshold is not None:\n",
    "        # # make only the distances less than the threshold non-zero, the rest\n",
    "        # intervehicle_distances = torch.where(intervehicle_distances < threshold, intervehicle_distances, torch.zeros_like(intervehicle_distances))\n",
    "        # make the distances 1 if less than the threshold, 0 otherwise\n",
    "        intervehicle_distances = torch.where(intervehicle_distances < threshold, torch.ones_like(intervehicle_distances), torch.zeros_like(intervehicle_distances))\n",
    "    return intervehicle_distances, xs, ys"
   ]
  },
  {
   "cell_type": "code",
   "execution_count": 3,
   "metadata": {},
   "outputs": [],
   "source": [
    "def randomTrips(dur=1000, density=12):\n",
    "    os.system(\"python $SUMO_HOME/tools/randomTrips.py -n config/osm.net.xml.gz -r config/osm.passenger.trips.xml -e \" + str(dur) + \" -l --insertion-density=\" + str(density))\n",
    "\n",
    "def shouldContinueSim():\n",
    "    numVehicles = traci.simulation.getMinExpectedNumber()\n",
    "    return True if numVehicles > 0 else False\n",
    "\n",
    "def restart(dur, density):\n",
    "    with io.StringIO() as buf, redirect_stdout(buf):\n",
    "        try:\n",
    "            traci.close()\n",
    "        except:\n",
    "            pass\n",
    "        randomTrips(dur, density)\n",
    "        traci.start(sumoCmd)\n",
    "\n",
    "def close():\n",
    "    traci.close()"
   ]
  },
  {
   "cell_type": "code",
   "execution_count": 4,
   "metadata": {},
   "outputs": [],
   "source": [
    "import copy\n",
    "\n",
    "class Knowledges:\n",
    "    def __init__(self):\n",
    "        self.knowledges = {}\n",
    "        self.delays = {}\n",
    "    \n",
    "    def add_observations(self, vehicles, observed_vehicles):\n",
    "        for vehicle, visibility in zip(vehicles, observed_vehicles):\n",
    "            if vehicle not in self.knowledges:\n",
    "                self.knowledges[vehicle] = []\n",
    "                self.delays[vehicle] = 0\n",
    "            self.knowledges[vehicle].append(int(visibility))\n",
    "            if visibility == 0:\n",
    "                self.delays[vehicle] += 1\n",
    "            else:\n",
    "                self.delays[vehicle] = 0\n",
    "    \n",
    "    def merge_knowledges(self, new_knowledges, new_delays):\n",
    "        for vehicle, visibility in new_knowledges.items():\n",
    "            if vehicle not in self.knowledges:\n",
    "                self.knowledges[vehicle] = copy.deepcopy(visibility)\n",
    "                self.delays[vehicle] = new_delays[vehicle]\n",
    "            else:\n",
    "                for i in range(1, len(self.knowledges[vehicle])+1):\n",
    "                    if i > len(visibility):\n",
    "                        break\n",
    "                    self.knowledges[vehicle][-i] = visibility[-i] | self.knowledges[vehicle][-i]\n",
    "                self.delays[vehicle] = min(self.delays[vehicle], new_delays[vehicle])\n",
    "        return copy.deepcopy(self.knowledges), copy.deepcopy(self.delays)\n",
    "\n",
    "    def get_knowledges(self):\n",
    "        return copy.deepcopy(self.knowledges)\n",
    "    \n",
    "    def get_delays(self):\n",
    "        return copy.deepcopy(self.delays)\n",
    "    \n",
    "    def evaluate_knowledge(self, large_delay_threshold = 10):\n",
    "        observed = 0\n",
    "        total = 0\n",
    "        delay = 0\n",
    "        large_delay = 0\n",
    "        num_vehicles = len(self.knowledges)\n",
    "        for vehicle, visibility in self.knowledges.items():\n",
    "            observed += sum(visibility)\n",
    "            total += len(visibility)\n",
    "            delay += self.delays[vehicle]\n",
    "            if self.delays[vehicle] >= large_delay_threshold:\n",
    "                large_delay += 1\n",
    "        return 1-(observed / total), delay / num_vehicles, large_delay / num_vehicles\n",
    "\n",
    "class Beacon:\n",
    "    def __init__(self, trace_hidden):\n",
    "        self.trace_hidden = copy.deepcopy(trace_hidden)\n",
    "    \n",
    "    def update(self, trace_hidden):\n",
    "        self.trace_hidden = copy.deepcopy(trace_hidden)\n"
   ]
  },
  {
   "cell_type": "code",
   "execution_count": 11,
   "metadata": {},
   "outputs": [
    {
     "name": "stdout",
     "output_type": "stream",
     "text": [
      "Success.\n",
      "Average missing:  0.027813125753645893\n",
      "Average delay:  0.38216493308263394\n",
      "Average large delay:  0.008108149334431105\n"
     ]
    }
   ],
   "source": [
    "# find the maximum action space\n",
    "restart(1000, 6)\n",
    "max_action_space = 0\n",
    "vehicle_knowledges = {}\n",
    "total_states = 0\n",
    "\n",
    "total_missing = 0\n",
    "total_delay = 0\n",
    "total_large_delay = 0\n",
    "\n",
    "while shouldContinueSim():\n",
    "    traci.simulationStep()\n",
    "    ids = traci.vehicle.getIDList()\n",
    "    connectivity, xs, ys = intervehicleConnectivity(800)\n",
    "    # minus the diagonal\n",
    "    action_spaces = connectivity - torch.eye(connectivity.size(0)).to(device)\n",
    "    \n",
    "    for i, vehicle in enumerate(ids):\n",
    "        if vehicle not in vehicle_knowledges:\n",
    "            vehicle_knowledges[vehicle] = Knowledges()\n",
    "        vehicle_knowledges[vehicle].add_observations(ids, connectivity[i])\n",
    "    # for i, vehicle in enumerate(ids):\n",
    "    #     # get non-zero indices except the diagonal\n",
    "    #     non_zero_indices = np.where(action_spaces[i] == 1)[0]\n",
    "    #     for index in non_zero_indices:\n",
    "    #         receiver = ids[index]\n",
    "    #         assert vehicle in vehicle_knowledges and receiver in vehicle_knowledges\n",
    "    #         vehicle_knowledges[receiver].merge_knowledges(vehicle_knowledges[vehicle].get_knowledges(), vehicle_knowledges[vehicle].get_delays())\n",
    "        # if len(non_zero_indices) > 0:\n",
    "        #     selected_index = random.choice(non_zero_indices)\n",
    "        #     receiver = ids[selected_index]\n",
    "        #     assert vehicle in vehicle_knowledges and receiver in vehicle_knowledges\n",
    "        #     vehicle_knowledges[receiver].merge_knowledges(vehicle_knowledges[vehicle].get_knowledges(), vehicle_knowledges[vehicle].get_delays())\n",
    "    for i, vehicle in enumerate(ids):\n",
    "        total_states += 1\n",
    "        missing, delay, large_delay = vehicle_knowledges[vehicle].evaluate_knowledge()\n",
    "        total_missing += missing\n",
    "        total_delay += delay\n",
    "        total_large_delay += large_delay\n",
    "print(\"Average missing: \", total_missing / total_states)\n",
    "print(\"Average delay: \", total_delay / total_states)\n",
    "print(\"Average large delay: \", total_large_delay / total_states)"
   ]
  },
  {
   "cell_type": "code",
   "execution_count": 9,
   "metadata": {},
   "outputs": [
    {
     "name": "stdout",
     "output_type": "stream",
     "text": [
      "Average missing:  0.03477086122808777\n",
      "Average delay:  1.5325179224318364\n",
      "Max delay:  0.6181818181818182\n"
     ]
    }
   ],
   "source": [
    "num_vehicles = len(vehicle_knowledges)\n",
    "total_missing = 0\n",
    "total_delay = 0\n",
    "step = 0\n",
    "max_delay = 0 \n",
    "for vehicle, knowledge in vehicle_knowledges.items():\n",
    "    m, d, l = knowledge.evaluate_knowledge() \n",
    "    total_missing += m\n",
    "    total_delay += d\n",
    "    max_delay = max(max_delay, l)\n",
    "print(\"Average missing: \", total_missing/num_vehicles)\n",
    "print(\"Average delay: \", total_delay/num_vehicles)\n",
    "print(\"Max delay: \", max_delay)"
   ]
  },
  {
   "cell_type": "code",
   "execution_count": null,
   "metadata": {},
   "outputs": [],
   "source": []
  }
 ],
 "metadata": {
  "kernelspec": {
   "display_name": "sumo",
   "language": "python",
   "name": "python3"
  },
  "language_info": {
   "codemirror_mode": {
    "name": "ipython",
    "version": 3
   },
   "file_extension": ".py",
   "mimetype": "text/x-python",
   "name": "python",
   "nbconvert_exporter": "python",
   "pygments_lexer": "ipython3",
   "version": "3.10.12"
  }
 },
 "nbformat": 4,
 "nbformat_minor": 2
}
