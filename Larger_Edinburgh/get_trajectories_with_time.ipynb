{
 "cells": [
  {
   "cell_type": "code",
   "execution_count": 1,
   "metadata": {},
   "outputs": [
    {
     "name": "stdout",
     "output_type": "stream",
     "text": [
      "SUMO_HOME found\n",
      "SUMO_HOME found\n"
     ]
    }
   ],
   "source": [
    "from utils import to_csv_1, randomTrips, shouldContinueSim, quickstart\n",
    "import os\n",
    "import sys\n",
    "from sumolib import checkBinary\n",
    "import traci\n",
    "\n",
    "if 'SUMO_HOME' in os.environ:\n",
    "    print('SUMO_HOME found')\n",
    "    sys.path.append(os.path.join(os.environ['SUMO_HOME'], 'tools'))\n",
    "\n",
    "sumoBinary = checkBinary('sumo')\n",
    "roadNetwork = \"./config/osm.sumocfg\"\n",
    "sumoCmd = [sumoBinary, \"-c\", roadNetwork, \"--start\", \"--quit-on-end\"]"
   ]
  },
  {
   "cell_type": "code",
   "execution_count": 2,
   "metadata": {},
   "outputs": [
    {
     "name": "stdout",
     "output_type": "stream",
     "text": [
      "Success.\n"
     ]
    }
   ],
   "source": [
    "randomTrips(dur=800, density=1.5)"
   ]
  },
  {
   "cell_type": "code",
   "execution_count": 3,
   "metadata": {},
   "outputs": [
    {
     "name": "stdout",
     "output_type": "stream",
     "text": [
      " Retrying in 1 seconds\n",
      "***Starting server on port 41463 ***\n",
      "Loading net-file from './config/osm.net.xml.gz' ... done (108ms).\n",
      "Loading done.\n",
      "Simulation version 1.20.0 started with time: 0.00.\n",
      "Simulation ended at time: 1557.00\n",
      "Reason: TraCI requested termination.\n",
      "Performance: \n",
      " Duration: 0.26s\n",
      " TraCI-Duration: 0.12s\n",
      " Real time factor: 5942.75\n",
      " UPS: 175694.656489\n",
      "Vehicles: \n",
      " Inserted: 89\n",
      " Running: 0\n",
      " Waiting: 0\n",
      "Statistics (avg of 89):\n",
      " RouteLength: 4885.02\n",
      " Speed: 9.58\n",
      " Duration: 517.21\n",
      " WaitingTime: 17.72\n",
      " TimeLoss: 70.09\n",
      " DepartDelay: 0.47\n",
      "\n"
     ]
    }
   ],
   "source": [
    "def get_vehicle_count():\n",
    "    quickstart(sumoCmd)\n",
    "    n = 0\n",
    "    dict = {}\n",
    "    while shouldContinueSim():\n",
    "        traci.simulationStep()\n",
    "        for vehicle in traci.vehicle.getIDList():\n",
    "                if vehicle not in dict:\n",
    "                    dict[vehicle] = 1\n",
    "                    n += 1\n",
    "    traci.close()\n",
    "    return n, list(dict.keys())\n",
    "n, all_vehicle_ids = get_vehicle_count()"
   ]
  },
  {
   "cell_type": "code",
   "execution_count": 4,
   "metadata": {},
   "outputs": [
    {
     "name": "stdout",
     "output_type": "stream",
     "text": [
      " Retrying in 1 seconds\n",
      "***Starting server on port 55865 ***\n",
      "Loading net-file from './config/osm.net.xml.gz' ... done (109ms).\n",
      "Loading done.\n",
      "Simulation version 1.20.0 started with time: 0.00.\n",
      "Simulation ended at time: 1557.00\n",
      "Reason: TraCI requested termination.\n",
      "Performance: \n",
      " Duration: 1.04s\n",
      " TraCI-Duration: 0.88s\n",
      " Real time factor: 1491.38\n",
      " UPS: 44091.954023\n",
      "Vehicles: \n",
      " Inserted: 89\n",
      " Running: 0\n",
      " Waiting: 0\n",
      "Statistics (avg of 89):\n",
      " RouteLength: 4885.02\n",
      " Speed: 9.58\n",
      " Duration: 517.21\n",
      " WaitingTime: 17.72\n",
      " TimeLoss: 70.09\n",
      " DepartDelay: 0.47\n",
      "\n"
     ]
    }
   ],
   "source": [
    "def get_trajectory_with_time(vehicle_ids):\n",
    "    quickstart(sumoCmd)\n",
    "    dict = {}\n",
    "    for vehicle in vehicle_ids:\n",
    "        dict[vehicle] = [-1, -1]\n",
    "    while shouldContinueSim():\n",
    "        traci.simulationStep()\n",
    "        current_time = traci.simulation.getTime()\n",
    "        curr_vehicle_ids = traci.vehicle.getIDList()\n",
    "        for vehicle in curr_vehicle_ids:\n",
    "            x, y = traci.vehicle.getPosition(vehicle)\n",
    "            dict[vehicle] += [x, y]\n",
    "        for key in dict:\n",
    "            if len(dict[key]) / 2 < current_time + 1:\n",
    "                dict[key] += [-1, -1]\n",
    "    traci.close()\n",
    "    return dict\n",
    "\n",
    "complete_trajectory = get_trajectory_with_time(all_vehicle_ids)"
   ]
  },
  {
   "cell_type": "code",
   "execution_count": 5,
   "metadata": {},
   "outputs": [],
   "source": [
    "to_csv_1(complete_trajectory, \"trajectory_time.csv\")"
   ]
  },
  {
   "cell_type": "markdown",
   "metadata": {},
   "source": [
    "# Check if the trajectory is correct"
   ]
  },
  {
   "cell_type": "code",
   "execution_count": 6,
   "metadata": {},
   "outputs": [
    {
     "name": "stdout",
     "output_type": "stream",
     "text": [
      " Retrying in 1 seconds\n",
      "***Starting server on port 43769 ***\n",
      "Loading net-file from './config/osm.net.xml.gz' ... done (108ms).\n",
      "Loading done.\n",
      "Simulation version 1.20.0 started with time: 0.00.\n"
     ]
    }
   ],
   "source": [
    "quickstart(sumoCmd)\n",
    "while shouldContinueSim():\n",
    "    traci.simulationStep()\n",
    "    curr_vehicle_ids = traci.vehicle.getIDList()\n",
    "    time = int(traci.simulation.getTime())\n",
    "    for vehicle in curr_vehicle_ids:\n",
    "        x, y = traci.vehicle.getPosition(vehicle)\n",
    "        if x != complete_trajectory[vehicle][time * 2] or y != complete_trajectory[vehicle][time * 2 + 1]:\n",
    "            print(complete_trajectory[vehicle])\n",
    "            print(\"Vehicle: \", vehicle)\n",
    "            print(\"Expected: \", complete_trajectory[vehicle][time * 2], complete_trajectory[vehicle][time * 2 + 1])\n",
    "            print(\"Actual: \", x, y)\n",
    "        assert x == complete_trajectory[vehicle][time * 2]\n",
    "        assert y == complete_trajectory[vehicle][time * 2 + 1]"
   ]
  },
  {
   "cell_type": "code",
   "execution_count": null,
   "metadata": {},
   "outputs": [],
   "source": []
  }
 ],
 "metadata": {
  "kernelspec": {
   "display_name": "sumo",
   "language": "python",
   "name": "python3"
  },
  "language_info": {
   "codemirror_mode": {
    "name": "ipython",
    "version": 3
   },
   "file_extension": ".py",
   "mimetype": "text/x-python",
   "name": "python",
   "nbconvert_exporter": "python",
   "pygments_lexer": "ipython3",
   "version": "3.10.12"
  }
 },
 "nbformat": 4,
 "nbformat_minor": 2
}
